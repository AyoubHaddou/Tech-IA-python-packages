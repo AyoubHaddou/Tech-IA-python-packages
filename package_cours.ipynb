{
 "cells": [
  {
   "cell_type": "markdown",
   "metadata": {},
   "source": [
    "# Les packages"
   ]
  },
  {
   "cell_type": "markdown",
   "metadata": {},
   "source": [
    "## Introduction"
   ]
  },
  {
   "cell_type": "markdown",
   "metadata": {},
   "source": [
    "### Bidouiller le pythonpath"
   ]
  },
  {
   "cell_type": "markdown",
   "metadata": {},
   "source": [
    "Nous avons vu qu'il était important d'organiser son code dans des fichiers (modules) et dans des dossiers regroupant ces fichirs. \n",
    "\n",
    "Pour aller chercher ces fichiers nous avons jusqu'ici utilisé ce bout de code:"
   ]
  },
  {
   "cell_type": "code",
   "execution_count": 3,
   "metadata": {},
   "outputs": [],
   "source": [
    "import concessionnaire.client"
   ]
  },
  {
   "cell_type": "code",
   "execution_count": 9,
   "metadata": {},
   "outputs": [],
   "source": [
    "import os\n",
    "import sys\n",
    "import inspect\n",
    "\n",
    "currentdir = os.path.dirname(os.path.abspath(inspect.getfile(inspect.currentframe())))\n",
    "parentdir = os.path.dirname(currentdir)\n",
    "sys.path.insert(0, parentdir) "
   ]
  },
  {
   "cell_type": "markdown",
   "metadata": {},
   "source": [
    "Ce code permet d'ajouter temporaire un dossier au pythonpath. Pour rappel, le pythonpath regroupe l'ensemble des chemins dans lesquels python va chercher quand vous importer un module.\n",
    "\n",
    "Il est possible de savoir ce qui se trouve dans votre python path de la manière suivant:"
   ]
  },
  {
   "cell_type": "code",
   "execution_count": 1,
   "metadata": {},
   "outputs": [
    {
     "name": "stdout",
     "output_type": "stream",
     "text": [
      "['/Users/charles/Documents/pythonProject/Tech-IA-python-packages',\n",
      " '/Users/charles/.vscode/extensions/ms-toolsai.jupyter-2021.11.1001550889/pythonFiles',\n",
      " '/Users/charles/.vscode/extensions/ms-toolsai.jupyter-2021.11.1001550889/pythonFiles/lib/python',\n",
      " '/usr/local/Cellar/python@3.9/3.9.9/Frameworks/Python.framework/Versions/3.9/lib/python39.zip',\n",
      " '/usr/local/Cellar/python@3.9/3.9.9/Frameworks/Python.framework/Versions/3.9/lib/python3.9',\n",
      " '/usr/local/Cellar/python@3.9/3.9.9/Frameworks/Python.framework/Versions/3.9/lib/python3.9/lib-dynload',\n",
      " '',\n",
      " '/usr/local/lib/python3.9/site-packages',\n",
      " '/Users/charles/Documents/pythonProject/Tech-IA-python-packages',\n",
      " '/usr/local/lib/python3.9/site-packages/IPython/extensions',\n",
      " '/Users/charles/.ipython']\n"
     ]
    }
   ],
   "source": [
    "import sys\n",
    "from pprint import pprint\n",
    "pprint(sys.path)"
   ]
  },
  {
   "cell_type": "markdown",
   "metadata": {},
   "source": [
    "On voit que le dossier courant est automatiquement ajouté au pythonpath.\n",
    "C'est pour cette raison qu'importer un module dans le meme dossier ou dans un dossier enfant ne pose pas de problème\n",
    "\n",
    "Python va cherche les modules dans l'ordre des chemins du pythonpath: si vous avez donc définit un fichier \"math\" il viendra écraser la libraire \"math\" de python.\n"
   ]
  },
  {
   "cell_type": "markdown",
   "metadata": {},
   "source": [
    "### Le problème du bidouillage du python path"
   ]
  },
  {
   "cell_type": "markdown",
   "metadata": {},
   "source": [
    "Cette manière de procéder fonctionne à tous les coups, il est donc utile de le connaitre. \n",
    "Elle a cependant deux défaults:\n",
    "- elle n'est pas particulièrement propre: tous nos fichiers doivent commencer par deux ou trois lignes\n",
    "- elle n'ajoute le dossier au Pythonpath que de manière temporaire, il faut donc ajouter ce code à l'ensemble des fichiers du projet."
   ]
  },
  {
   "cell_type": "markdown",
   "metadata": {},
   "source": [
    "`à noter`: Il est possible d'ajouer un dossier de manière permanente au pythonpath. La méthode dépend de votre os. ([voir tuto](https://www.youtube.com/watch?v=_1VrlI07K80)). \n",
    "\n",
    "Cette méthode est utile quand vous avez un dossier qui comporte des packages utiles à de nombreux projet, cependant vous ne voulez pas encombré de manière définitive votre pythonpath avec des dossiers issus de vieux projets dont vous ne vous servez plus. Ceci est fortement source d'erreur."
   ]
  },
  {
   "cell_type": "markdown",
   "metadata": {},
   "source": [
    "Il nous faut donc une autre méthode"
   ]
  },
  {
   "cell_type": "markdown",
   "metadata": {},
   "source": [
    "## Créer ses packages: tutos"
   ]
  },
  {
   "cell_type": "markdown",
   "metadata": {},
   "source": [
    "Nous connaissons les packages, nous en avons déja importé plein (random, pandas, math...). Nous allons voir maintenant comment créer nos propres packages.\n",
    "\n",
    "Créer ses packages possèdes plusieurs interet:\n",
    "- à l'intérieur d'un package, on se déplace facilement à l'aide des chemins relatifs: . , .. ou ...\n",
    "- Créer un package permet de rendre l'import d'une série de classe et de fonction plus propre dans un projet\n",
    "- Créer un package permet de réutiliser ces classes facilement dans d'autres projets."
   ]
  },
  {
   "cell_type": "markdown",
   "metadata": {},
   "source": [
    "### étape 1: rassembler votre code\n",
    "- vous devez créer un fichier par classe\n",
    "- rassembler au mieux vos fonctions dans des fichiers\n",
    "- regrouper tous ces fichiers dans un meme dossier\n",
    "   - ce dossier peut avoir des sous dossier\n",
    "   - ce dossier porte le nom de votre package"
   ]
  },
  {
   "cell_type": "markdown",
   "metadata": {},
   "source": [
    "Attention: vous avez parfois besoin du nom de certaines classes pour le typing hint. Cela peut provoquer des imports circulaire et donc des erreurs. Pour éviter cette erreur il faut utiliser des Forward Reference (PEP 484 - Type Hints):"
   ]
  },
  {
   "cell_type": "code",
   "execution_count": null,
   "metadata": {},
   "outputs": [],
   "source": [
    "@dataclass\n",
    "class Vente:\n",
    "    magasin: \"Magasin\"\n",
    "    vehicule : Vehicule"
   ]
  },
  {
   "cell_type": "markdown",
   "metadata": {},
   "source": [
    "- Vehicule est un typage normale\n",
    "- `\"Magasin\"` est une formard référence"
   ]
  },
  {
   "cell_type": "markdown",
   "metadata": {},
   "source": [
    "### étape 2: créer les fichiers \\_\\_init\\_\\_.py\n",
    "- vous devez ajouter à votre dossier principal ainsi qu'à chaque sous dossier un fichier \\_\\_init\\_\\_.py'\n",
    "- les objets qu'il définit sont liés à des noms dans l'espace de noms du package.\n",
    "- Vous pouvez aussi y définir l'objet \\_\\_all\\_\\_ qui liste tous les objets que vous importez quand vous tapez from package import *"
   ]
  },
  {
   "cell_type": "code",
   "execution_count": null,
   "metadata": {},
   "outputs": [],
   "source": [
    "# exmemple de all:\n",
    "__all__ = [\"echo\", \"surround\", \"reverse\"]"
   ]
  },
  {
   "cell_type": "markdown",
   "metadata": {},
   "source": [
    "### étape 3: importer votre package"
   ]
  },
  {
   "cell_type": "markdown",
   "metadata": {},
   "source": [
    "Vous pouvez toujours importer votre package sys.path"
   ]
  },
  {
   "cell_type": "markdown",
   "metadata": {},
   "source": [
    "La méthode plus propre passe par la définition d'un setup et d'un environnement virtuel"
   ]
  },
  {
   "cell_type": "markdown",
   "metadata": {},
   "source": [
    "1. Add a setup.py **`to the root folder`** -- The contents of the setup.py can be simply"
   ]
  },
  {
   "cell_type": "code",
   "execution_count": null,
   "metadata": {},
   "outputs": [],
   "source": [
    "from setuptools import setup, find_packages\n",
    "\n",
    "setup(name='folder_name', version='1.0', packages=find_packages())"
   ]
  },
  {
   "cell_type": "markdown",
   "metadata": {},
   "source": [
    "2. Create a virtual environment and activate it"
   ]
  },
  {
   "cell_type": "markdown",
   "metadata": {},
   "source": [
    "3. pip install your project in editable state\n",
    "The trick is to use the -e flag when doing the install. This way it is installed in an editable state, and all the edits made to the .py files will be automatically included in the installed package.\n",
    "\n",
    "**`In your rood folder`**, run:"
   ]
  },
  {
   "cell_type": "code",
   "execution_count": null,
   "metadata": {},
   "outputs": [],
   "source": [
    "pip3 install -e . #note the dot, it stands for \"current directory\""
   ]
  },
  {
   "cell_type": "markdown",
   "metadata": {},
   "source": [
    "Import by prepending mainfolder to every import  \n",
    "In this example, the mainfolder would be concessionnaire. This has the advantage that you will not run into name collisions with other module names (from python standard library or 3rd party modules)."
   ]
  },
  {
   "cell_type": "markdown",
   "metadata": {},
   "source": [
    "## Exemple"
   ]
  },
  {
   "cell_type": "markdown",
   "metadata": {},
   "source": [
    "Voir concessionnaire"
   ]
  },
  {
   "cell_type": "markdown",
   "metadata": {},
   "source": [
    "## Exercice"
   ]
  },
  {
   "cell_type": "markdown",
   "metadata": {},
   "source": [
    "Réaliser cet [exercice](https://github.com/OpenClassrooms-Student-Center/7150626-Apprenez-la-programmation-orientee-objet-avec-Python/blob/main/exercices/p3c1_contact.py) proposer par openclassroom.\n",
    "- organiser le code en fichier et dossier\n",
    "- créer un module\n",
    "- pip installer le module pour vous en servir dans un fichier main.py\n",
    "- dans un dossier test, créez un fichier test et testez l'une des fonctions du module créé."
   ]
  }
 ],
 "metadata": {
  "interpreter": {
   "hash": "aee8b7b246df8f9039afb4144a1f6fd8d2ca17a180786b69acc140d282b71a49"
  },
  "kernelspec": {
   "display_name": "Python 3.9.9 64-bit",
   "language": "python",
   "name": "python3"
  },
  "language_info": {
   "codemirror_mode": {
    "name": "ipython",
    "version": 3
   },
   "file_extension": ".py",
   "mimetype": "text/x-python",
   "name": "python",
   "nbconvert_exporter": "python",
   "pygments_lexer": "ipython3",
   "version": "3.9.9"
  },
  "orig_nbformat": 4
 },
 "nbformat": 4,
 "nbformat_minor": 2
}
