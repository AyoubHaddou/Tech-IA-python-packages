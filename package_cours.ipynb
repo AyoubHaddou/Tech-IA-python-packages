{
 "cells": [
  {
   "cell_type": "markdown",
   "metadata": {},
   "source": [
    "# Les packages"
   ]
  },
  {
   "cell_type": "markdown",
   "metadata": {},
   "source": [
    "## Introduction"
   ]
  },
  {
   "cell_type": "markdown",
   "metadata": {},
   "source": [
    "Nous avons vu qu'il était important d'organiser son code dans des fichiers (modules) et dans des dossiers regroupant ces fichirs. \n",
    "\n",
    "Pour aller chercher ces fichiers nous avons jusqu'ici utilisé ce bout de code:"
   ]
  },
  {
   "cell_type": "code",
   "execution_count": null,
   "metadata": {},
   "outputs": [],
   "source": [
    "import os\n",
    "import sys\n",
    "import inspect\n",
    "\n",
    "currentdir = os.path.dirname(os.path.abspath(inspect.getfile(inspect.currentframe())))\n",
    "parentdir = os.path.dirname(currentdir)\n",
    "sys.path.insert(0, parentdir) "
   ]
  },
  {
   "cell_type": "markdown",
   "metadata": {},
   "source": [
    "Ce code fonctionne à tous les coups, il est donc utile de le connaitre. Cependant, il également possible dans certains cas de faire quelque chose de plus propre: créer son propre package"
   ]
  },
  {
   "cell_type": "markdown",
   "metadata": {},
   "source": [
    "Nous connaissons les packages, nous en avons déja importé plein (random, pandas, math...). Nous allons voir maintenant comment créer nos propres packages.\n",
    "\n",
    "Créer ses packages possèdes plusieurs interet:\n",
    "- à l'intérieur d'un package, on se déplace facilement à l'aide des chemins relatifs: . , .. ou ...\n",
    "- Créer un package permet de rendre l'import d'une série de classe et de fonction plus propre dans un projet\n",
    "- Créer un package permet de réutiliser ces classes facilement dans d'autres projets."
   ]
  },
  {
   "cell_type": "markdown",
   "metadata": {},
   "source": [
    "## Créer ses packages: tutos"
   ]
  },
  {
   "cell_type": "markdown",
   "metadata": {},
   "source": [
    "### étape 1: rassembler votre code\n",
    "- vous devez créer un fichier par classm\n",
    "- rassembler au mieux vos fonctions dans des fichiers\n",
    "- regrouper tous ces fichiers dans un meme dossier\n",
    "   - ce dossier peut avoir des sous dossier\n",
    "   - ce dossier porte le nom de votre package"
   ]
  },
  {
   "cell_type": "markdown",
   "metadata": {},
   "source": [
    "Attention: vous avez parfois besoin du nom de certaines classes pour le typing hint. Cela peut provoquer des imports circulaire et donc des erreurs. Pour éviter cette erreur il faut utiliser des Forward Reference (PEP 484 - Type Hints):"
   ]
  },
  {
   "cell_type": "code",
   "execution_count": null,
   "metadata": {},
   "outputs": [],
   "source": [
    "@dataclass\n",
    "class Vente:\n",
    "    magasin: \"Magasin\"\n",
    "    vehicule : Vehicule"
   ]
  },
  {
   "cell_type": "markdown",
   "metadata": {},
   "source": [
    "- Vehicule est un typage normale\n",
    "- `\"Magasin\"` est une formard référence"
   ]
  },
  {
   "cell_type": "markdown",
   "metadata": {},
   "source": [
    "### étape 2: créer les fichiers \\_\\_init\\_\\_.py\n",
    "- vous devez ajouter à votre dossier principal ainsi qu'à chaque sous dossier un fichier \\_\\_init\\_\\_.py'\n",
    "- les objets qu'il définit sont liés à des noms dans l'espace de noms du package.\n",
    "- Vous pouvez aussi y définir l'objet \\_\\_all\\_\\_ qui liste tous les objets que vous importez quand vous tapez from package import *"
   ]
  },
  {
   "cell_type": "code",
   "execution_count": null,
   "metadata": {},
   "outputs": [],
   "source": [
    "# exmemple de all:\n",
    "__all__ = [\"echo\", \"surround\", \"reverse\"]"
   ]
  },
  {
   "cell_type": "markdown",
   "metadata": {},
   "source": [
    "### étape 3: importer votre package"
   ]
  },
  {
   "cell_type": "markdown",
   "metadata": {},
   "source": [
    "Vous pouvez toujours importer votre package sys.path"
   ]
  },
  {
   "cell_type": "markdown",
   "metadata": {},
   "source": [
    "La méthode plus propre passe par la définition d'un setup et d'un environnement virtuel"
   ]
  },
  {
   "cell_type": "markdown",
   "metadata": {},
   "source": [
    "1. Add a setup.py **`to the root folder`** -- The contents of the setup.py can be simply"
   ]
  },
  {
   "cell_type": "code",
   "execution_count": null,
   "metadata": {},
   "outputs": [],
   "source": [
    "from setuptools import setup, find_packages\n",
    "\n",
    "setup(name='folder_name', version='1.0', packages=find_packages())"
   ]
  },
  {
   "cell_type": "markdown",
   "metadata": {},
   "source": [
    "2. Create a virtual environment and activate it"
   ]
  },
  {
   "cell_type": "markdown",
   "metadata": {},
   "source": [
    "3. pip install your project in editable state\n",
    "The trick is to use the -e flag when doing the install. This way it is installed in an editable state, and all the edits made to the .py files will be automatically included in the installed package.\n",
    "\n",
    "**`In your rood folder`**, run:"
   ]
  },
  {
   "cell_type": "code",
   "execution_count": null,
   "metadata": {},
   "outputs": [],
   "source": [
    "pip install -e . #note the dot, it stands for \"current directory\""
   ]
  },
  {
   "cell_type": "markdown",
   "metadata": {},
   "source": [
    "Import by prepending mainfolder to every import  \n",
    "In this example, the mainfolder would be concessionnaire. This has the advantage that you will not run into name collisions with other module names (from python standard library or 3rd party modules)."
   ]
  },
  {
   "cell_type": "markdown",
   "metadata": {},
   "source": [
    "## Exemple"
   ]
  },
  {
   "cell_type": "markdown",
   "metadata": {},
   "source": [
    "Voir concessionnaire"
   ]
  },
  {
   "cell_type": "markdown",
   "metadata": {},
   "source": [
    "## Exercice"
   ]
  },
  {
   "cell_type": "markdown",
   "metadata": {},
   "source": [
    "Réaliser cet [exercice](https://github.com/OpenClassrooms-Student-Center/7150626-Apprenez-la-programmation-orientee-objet-avec-Python/blob/main/exercices/p3c1_contact.py) proposer par openclassroom.\n",
    "- organiser le code en fichier et dossier\n",
    "- créer un module\n",
    "- pip installer le module pour vous en servir dans un fichier main.py"
   ]
  }
 ],
 "metadata": {
  "interpreter": {
   "hash": "aee8b7b246df8f9039afb4144a1f6fd8d2ca17a180786b69acc140d282b71a49"
  },
  "kernelspec": {
   "display_name": "Python 3.9.9 64-bit",
   "language": "python",
   "name": "python3"
  },
  "language_info": {
   "name": "python",
   "version": "3.9.9"
  },
  "orig_nbformat": 4
 },
 "nbformat": 4,
 "nbformat_minor": 2
}
